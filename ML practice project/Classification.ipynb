{
 "cells": [
  {
   "cell_type": "markdown",
   "id": "d7618213",
   "metadata": {},
   "source": [
    "<h1 style = 'color:purple'> Classification  </h1>"
   ]
  },
  {
   "cell_type": "markdown",
   "id": "0a0e011d",
   "metadata": {},
   "source": [
    "Importing Libraries"
   ]
  },
  {
   "cell_type": "code",
   "execution_count": 1,
   "id": "9ef54543",
   "metadata": {},
   "outputs": [],
   "source": [
    "import pandas as pd\n",
    "import numpy as np\n",
    "\n",
    "import matplotlib.pyplot as plt\n",
    "import seaborn as sns\n",
    "\n",
    "from sklearn.preprocessing import LabelEncoder\n",
    "from sklearn.model_selection import train_test_split,cross_val_score\n",
    "from sklearn.metrics import roc_curve,auc,confusion_matrix\n",
    "\n",
    "%matplotlib inline"
   ]
  },
  {
   "cell_type": "code",
   "execution_count": 2,
   "id": "5073de15",
   "metadata": {},
   "outputs": [
    {
     "data": {
      "text/html": [
       "<div>\n",
       "<style scoped>\n",
       "    .dataframe tbody tr th:only-of-type {\n",
       "        vertical-align: middle;\n",
       "    }\n",
       "\n",
       "    .dataframe tbody tr th {\n",
       "        vertical-align: top;\n",
       "    }\n",
       "\n",
       "    .dataframe thead th {\n",
       "        text-align: right;\n",
       "    }\n",
       "</style>\n",
       "<table border=\"1\" class=\"dataframe\">\n",
       "  <thead>\n",
       "    <tr style=\"text-align: right;\">\n",
       "      <th></th>\n",
       "      <th>class</th>\n",
       "      <th>cap-shape</th>\n",
       "      <th>cap-surface</th>\n",
       "      <th>cap-color</th>\n",
       "      <th>bruises</th>\n",
       "      <th>odor</th>\n",
       "      <th>gill-attachment</th>\n",
       "      <th>gill-spacing</th>\n",
       "      <th>gill-size</th>\n",
       "      <th>gill-color</th>\n",
       "      <th>...</th>\n",
       "      <th>stalk-surface-below-ring</th>\n",
       "      <th>stalk-color-above-ring</th>\n",
       "      <th>stalk-color-below-ring</th>\n",
       "      <th>veil-type</th>\n",
       "      <th>veil-color</th>\n",
       "      <th>ring-number</th>\n",
       "      <th>ring-type</th>\n",
       "      <th>spore-print-color</th>\n",
       "      <th>population</th>\n",
       "      <th>habitat</th>\n",
       "    </tr>\n",
       "  </thead>\n",
       "  <tbody>\n",
       "    <tr>\n",
       "      <th>0</th>\n",
       "      <td>p</td>\n",
       "      <td>x</td>\n",
       "      <td>s</td>\n",
       "      <td>n</td>\n",
       "      <td>t</td>\n",
       "      <td>p</td>\n",
       "      <td>f</td>\n",
       "      <td>c</td>\n",
       "      <td>n</td>\n",
       "      <td>k</td>\n",
       "      <td>...</td>\n",
       "      <td>s</td>\n",
       "      <td>w</td>\n",
       "      <td>w</td>\n",
       "      <td>p</td>\n",
       "      <td>w</td>\n",
       "      <td>o</td>\n",
       "      <td>p</td>\n",
       "      <td>k</td>\n",
       "      <td>s</td>\n",
       "      <td>u</td>\n",
       "    </tr>\n",
       "    <tr>\n",
       "      <th>1</th>\n",
       "      <td>e</td>\n",
       "      <td>x</td>\n",
       "      <td>s</td>\n",
       "      <td>y</td>\n",
       "      <td>t</td>\n",
       "      <td>a</td>\n",
       "      <td>f</td>\n",
       "      <td>c</td>\n",
       "      <td>b</td>\n",
       "      <td>k</td>\n",
       "      <td>...</td>\n",
       "      <td>s</td>\n",
       "      <td>w</td>\n",
       "      <td>w</td>\n",
       "      <td>p</td>\n",
       "      <td>w</td>\n",
       "      <td>o</td>\n",
       "      <td>p</td>\n",
       "      <td>n</td>\n",
       "      <td>n</td>\n",
       "      <td>g</td>\n",
       "    </tr>\n",
       "    <tr>\n",
       "      <th>2</th>\n",
       "      <td>e</td>\n",
       "      <td>b</td>\n",
       "      <td>s</td>\n",
       "      <td>w</td>\n",
       "      <td>t</td>\n",
       "      <td>l</td>\n",
       "      <td>f</td>\n",
       "      <td>c</td>\n",
       "      <td>b</td>\n",
       "      <td>n</td>\n",
       "      <td>...</td>\n",
       "      <td>s</td>\n",
       "      <td>w</td>\n",
       "      <td>w</td>\n",
       "      <td>p</td>\n",
       "      <td>w</td>\n",
       "      <td>o</td>\n",
       "      <td>p</td>\n",
       "      <td>n</td>\n",
       "      <td>n</td>\n",
       "      <td>m</td>\n",
       "    </tr>\n",
       "    <tr>\n",
       "      <th>3</th>\n",
       "      <td>p</td>\n",
       "      <td>x</td>\n",
       "      <td>y</td>\n",
       "      <td>w</td>\n",
       "      <td>t</td>\n",
       "      <td>p</td>\n",
       "      <td>f</td>\n",
       "      <td>c</td>\n",
       "      <td>n</td>\n",
       "      <td>n</td>\n",
       "      <td>...</td>\n",
       "      <td>s</td>\n",
       "      <td>w</td>\n",
       "      <td>w</td>\n",
       "      <td>p</td>\n",
       "      <td>w</td>\n",
       "      <td>o</td>\n",
       "      <td>p</td>\n",
       "      <td>k</td>\n",
       "      <td>s</td>\n",
       "      <td>u</td>\n",
       "    </tr>\n",
       "    <tr>\n",
       "      <th>4</th>\n",
       "      <td>e</td>\n",
       "      <td>x</td>\n",
       "      <td>s</td>\n",
       "      <td>g</td>\n",
       "      <td>f</td>\n",
       "      <td>n</td>\n",
       "      <td>f</td>\n",
       "      <td>w</td>\n",
       "      <td>b</td>\n",
       "      <td>k</td>\n",
       "      <td>...</td>\n",
       "      <td>s</td>\n",
       "      <td>w</td>\n",
       "      <td>w</td>\n",
       "      <td>p</td>\n",
       "      <td>w</td>\n",
       "      <td>o</td>\n",
       "      <td>e</td>\n",
       "      <td>n</td>\n",
       "      <td>a</td>\n",
       "      <td>g</td>\n",
       "    </tr>\n",
       "  </tbody>\n",
       "</table>\n",
       "<p>5 rows × 23 columns</p>\n",
       "</div>"
      ],
      "text/plain": [
       "  class cap-shape cap-surface cap-color bruises odor gill-attachment  \\\n",
       "0     p         x           s         n       t    p               f   \n",
       "1     e         x           s         y       t    a               f   \n",
       "2     e         b           s         w       t    l               f   \n",
       "3     p         x           y         w       t    p               f   \n",
       "4     e         x           s         g       f    n               f   \n",
       "\n",
       "  gill-spacing gill-size gill-color  ... stalk-surface-below-ring  \\\n",
       "0            c         n          k  ...                        s   \n",
       "1            c         b          k  ...                        s   \n",
       "2            c         b          n  ...                        s   \n",
       "3            c         n          n  ...                        s   \n",
       "4            w         b          k  ...                        s   \n",
       "\n",
       "  stalk-color-above-ring stalk-color-below-ring veil-type veil-color  \\\n",
       "0                      w                      w         p          w   \n",
       "1                      w                      w         p          w   \n",
       "2                      w                      w         p          w   \n",
       "3                      w                      w         p          w   \n",
       "4                      w                      w         p          w   \n",
       "\n",
       "  ring-number ring-type spore-print-color population habitat  \n",
       "0           o         p                 k          s       u  \n",
       "1           o         p                 n          n       g  \n",
       "2           o         p                 n          n       m  \n",
       "3           o         p                 k          s       u  \n",
       "4           o         e                 n          a       g  \n",
       "\n",
       "[5 rows x 23 columns]"
      ]
     },
     "execution_count": 2,
     "metadata": {},
     "output_type": "execute_result"
    }
   ],
   "source": [
    "#reading dataset : for understanding variables refer to mushrooms_readmefile\n",
    "dataset = pd.read_csv('data\\mushrooms.csv')\n",
    "dataset.head()"
   ]
  },
  {
   "cell_type": "markdown",
   "id": "e74722ba",
   "metadata": {},
   "source": [
    "**Classification** is a fundamental task in machine learning that involves categorizing or assigning data instances into predefined classes or categories based on their features or attributes. It is a supervised learning problem where the algorithm learns from labeled examples to make predictions on new, unseen data.\n",
    "   \n",
    "\n",
    "  - In classification, the goal is to build a model that can accurately assign the correct class label to new, unlabeled data instances. The model is trained on a labeled dataset, which consists of input features and their corresponding class labels. The input features represent the characteristics or measurements of the data instances, while the class labels represent the predefined categories or classes.\n",
    "\n",
    "The process of classification involves several steps:\n",
    "\n",
    "1. Data Preparation: The dataset is divided into a training set and a test set. The training set is used to train the classification model, while the test set is used to evaluate its performance on unseen data.\n",
    "\n",
    "2. Feature Extraction/Selection: Relevant features are extracted or selected from the data to represent the characteristics that are most informative for classification.\n",
    "\n",
    "3. Model Training: The classification model is trained using the labeled training data. Various algorithms can be used for training, such as logistic regression, decision trees, support vector machines (SVM), random forests, or neural networks.\n",
    "\n",
    "4. Model Evaluation: The trained model is evaluated using the test set to assess its accuracy and performance in predicting the correct class labels for unseen data. Common evaluation metrics for classification include accuracy, precision, recall, F1 score, and area under the ROC curve (AUC-ROC).\n",
    "\n",
    "5. Prediction: Once the model is trained and evaluated, it can be used to predict the class labels of new, unlabeled data instances based on their features. The model applies the learned patterns and decision boundaries to assign the most appropriate class label to each instance.\n",
    "\n",
    "Classification has numerous real-world applications, such as email spam filtering, sentiment analysis, image recognition, fraud detection, disease diagnosis, customer segmentation, and many more. It is a valuable tool for automating decision-making processes and organizing data into meaningful categories.\n",
    "\n",
    "\n",
    "\n",
    "\n"
   ]
  },
  {
   "cell_type": "markdown",
   "id": "d97da82b",
   "metadata": {},
   "source": [
    "                            Choosing Model Between Regression and Classification \n",
    "\n",
    "**Regression:**\n",
    "\n",
    "- Predicts a continuous numerical value.\n",
    "- Focuses on estimating or approximating quantities.\n",
    "- Uses evaluation metrics such as mean squared error (MSE), root mean squared error (RMSE), or R-squared.\n",
    "- Models the relationship between input features and the continuous output variable.\n",
    "- Provides insights into the relationship between input variables and the predicted outcome.\n",
    "- Can be sensitive to outliers.\n",
    "\n",
    "**Classification:**\n",
    "\n",
    "- Predicts categorical class labels.\n",
    "- Assigns inputs to specific categories or classes.\n",
    "- Uses evaluation metrics such as accuracy, precision, recall, or area under the ROC curve (AUC).\n",
    "- Determines decision boundaries or rules to separate feature space into different classes.\n",
    "- Focuses on prediction and assigning classes rather than interpreting model parameters.\n",
    "- Less sensitive to outliers compared to regression.\n",
    "\n",
    "These distinctions highlight the nature of the *output variable, evaluation metrics, decision boundaries, interpretability, and handling of outliers*. Choosing between regression and classification depends on the *specific problem, desired prediction outcome, and characteristics of the data*."
   ]
  },
  {
   "cell_type": "code",
   "execution_count": 3,
   "id": "685360a0",
   "metadata": {},
   "outputs": [
    {
     "data": {
      "image/png": "[encoded data removed]",
      "text/plain": [
       "<Figure size 432x288 with 1 Axes>"
      ]
     },
     "metadata": {
      "needs_background": "light"
     },
     "output_type": "display_data"
    }
   ],
   "source": [
    "X = dataset['class']\n",
    "cat = sns.countplot(x = X , data = dataset['class'])"
   ]
  },
  {
   "cell_type": "code",
   "execution_count": 4,
   "id": "567e0bae",
   "metadata": {},
   "outputs": [],
   "source": [
    "def plot_data(hue,data):\n",
    "    for i,col in enumerate(data.columns):\n",
    "        plt.figure(i)\n",
    "        ax = sns.countplot(x = data[col], data = data)   "
   ]
  },
  {
   "cell_type": "code",
   "execution_count": 5,
   "id": "9fb811e7",
   "metadata": {},
   "outputs": [],
   "source": [
    "##run this function if you want to see all data distribution\n",
    "\n",
    "# hue = dataset['class']\n",
    "# data_to_plot = dataset.drop('class', axis =1)\n",
    "# plot_data(hue,data_to_plot)"
   ]
  },
  {
   "cell_type": "markdown",
   "id": "91422c58",
   "metadata": {},
   "source": [
    "### Pre-processing"
   ]
  },
  {
   "cell_type": "code",
   "execution_count": 7,
   "id": "d3479080",
   "metadata": {},
   "outputs": [
    {
     "name": "stdout",
     "output_type": "stream",
     "text": [
      "class : 0\n",
      "cap-shape : 0\n",
      "cap-surface : 0\n",
      "cap-color : 0\n",
      "bruises : 0\n",
      "odor : 0\n",
      "gill-attachment : 0\n",
      "gill-spacing : 0\n",
      "gill-size : 0\n",
      "gill-color : 0\n",
      "stalk-shape : 0\n",
      "stalk-root : 0\n",
      "stalk-surface-above-ring : 0\n",
      "stalk-surface-below-ring : 0\n",
      "stalk-color-above-ring : 0\n",
      "stalk-color-below-ring : 0\n",
      "veil-type : 0\n",
      "veil-color : 0\n",
      "ring-number : 0\n",
      "ring-type : 0\n",
      "spore-print-color : 0\n",
      "population : 0\n",
      "habitat : 0\n"
     ]
    }
   ],
   "source": [
    "# checking for null\n",
    "for col in dataset.columns:\n",
    "    count_blank = dataset[col].isnull().sum()\n",
    "    print(f\"{col} : {count_blank}\" )"
   ]
  },
  {
   "cell_type": "markdown",
   "id": "5ed8b2f7",
   "metadata": {},
   "source": [
    "**Why it is important to perform Encoding or LabelEncoding while working with Machine Learning Model ?**\n",
    "\n",
    "Encoding or label encoding is performed in machine learning to transform categorical variables into numerical representations that can be effectively used by machine learning algorithms. Categorical variables are variables that take on a limited number of distinct values or categories.\n",
    "\n",
    "Here are a few reasons why encoding or label encoding is necessary:\n",
    "\n",
    "1. Numerical Representation: Machine learning algorithms generally operate on numerical data. By encoding categorical variables into numerical representations, we enable the algorithms to process and analyze the data more effectively.\n",
    "\n",
    "\n",
    "2. Algorithm Compatibility: Many machine learning algorithms, such as linear regression, decision trees, and neural networks, are designed to work with numerical input variables. Encoding categorical variables allows us to use a wider range of algorithms that may not directly support categorical data.\n",
    "\n",
    "\n",
    "3. Feature Representation: Encoding categorical variables properly ensures that the encoded values preserve the inherent relationships and characteristics of the original categorical values. For example, if we have a categorical variable representing different sizes (small, medium, large), encoding it into numerical values (0, 1, 2) maintains the order and relative differences between the sizes.\n",
    "\n",
    "\n",
    "4. One-Hot Encoding: In some cases, label encoding may not be sufficient or appropriate, especially when dealing with nominal categorical variables (where the categories have no inherent order). One-hot encoding is another technique used to represent categorical variables, where each category is converted into a binary vector, and only one element in the vector is 1, indicating the presence of that category. This ensures that no ordinal relationship is assumed between categories.\n",
    "\n",
    "\n",
    "5. Improved Model Performance: Proper encoding of categorical variables can contribute to better model performance. Machine learning algorithms can leverage the encoded information to identify patterns, correlations, and dependencies between categorical features and the target variable.\n",
    "\n",
    "It is important to note that the choice between label encoding, one-hot encoding, or other encoding techniques depends on the specific characteristics of the data, the nature of the categorical variable, and the requirements of the machine learning task. Care should be taken to apply appropriate encoding methods to ensure meaningful representation of the categorical data in the context of the problem at hand."
   ]
  },
  {
   "cell_type": "code",
   "execution_count": 8,
   "id": "29990685",
   "metadata": {},
   "outputs": [
    {
     "data": {
      "text/plain": [
       "class\n",
       "0    4208\n",
       "1    3916\n",
       "Name: count, dtype: int64"
      ]
     },
     "execution_count": 8,
     "metadata": {},
     "output_type": "execute_result"
    }
   ],
   "source": [
    "# LabelEncoding for 'class' i.e. Transforming dataset['class'] into 1 & 0 form\n",
    "\n",
    "le = LabelEncoder()\n",
    "dataset['class'] = le.fit_transform(dataset['class'])\n",
    "\n",
    "dataset['class'].value_counts()"
   ]
  },
  {
   "cell_type": "code",
   "execution_count": 9,
   "id": "7417189b",
   "metadata": {},
   "outputs": [
    {
     "data": {
      "text/html": [
       "<div>\n",
       "<style scoped>\n",
       "    .dataframe tbody tr th:only-of-type {\n",
       "        vertical-align: middle;\n",
       "    }\n",
       "\n",
       "    .dataframe tbody tr th {\n",
       "        vertical-align: top;\n",
       "    }\n",
       "\n",
       "    .dataframe thead th {\n",
       "        text-align: right;\n",
       "    }\n",
       "</style>\n",
       "<table border=\"1\" class=\"dataframe\">\n",
       "  <thead>\n",
       "    <tr style=\"text-align: right;\">\n",
       "      <th></th>\n",
       "      <th>class</th>\n",
       "      <th>cap-shape_b</th>\n",
       "      <th>cap-shape_c</th>\n",
       "      <th>cap-shape_f</th>\n",
       "      <th>cap-shape_k</th>\n",
       "      <th>cap-shape_s</th>\n",
       "      <th>cap-shape_x</th>\n",
       "      <th>cap-surface_f</th>\n",
       "      <th>cap-surface_g</th>\n",
       "      <th>cap-surface_s</th>\n",
       "      <th>...</th>\n",
       "      <th>population_s</th>\n",
       "      <th>population_v</th>\n",
       "      <th>population_y</th>\n",
       "      <th>habitat_d</th>\n",
       "      <th>habitat_g</th>\n",
       "      <th>habitat_l</th>\n",
       "      <th>habitat_m</th>\n",
       "      <th>habitat_p</th>\n",
       "      <th>habitat_u</th>\n",
       "      <th>habitat_w</th>\n",
       "    </tr>\n",
       "  </thead>\n",
       "  <tbody>\n",
       "    <tr>\n",
       "      <th>0</th>\n",
       "      <td>1</td>\n",
       "      <td>0</td>\n",
       "      <td>0</td>\n",
       "      <td>0</td>\n",
       "      <td>0</td>\n",
       "      <td>0</td>\n",
       "      <td>1</td>\n",
       "      <td>0</td>\n",
       "      <td>0</td>\n",
       "      <td>1</td>\n",
       "      <td>...</td>\n",
       "      <td>1</td>\n",
       "      <td>0</td>\n",
       "      <td>0</td>\n",
       "      <td>0</td>\n",
       "      <td>0</td>\n",
       "      <td>0</td>\n",
       "      <td>0</td>\n",
       "      <td>0</td>\n",
       "      <td>1</td>\n",
       "      <td>0</td>\n",
       "    </tr>\n",
       "    <tr>\n",
       "      <th>1</th>\n",
       "      <td>0</td>\n",
       "      <td>0</td>\n",
       "      <td>0</td>\n",
       "      <td>0</td>\n",
       "      <td>0</td>\n",
       "      <td>0</td>\n",
       "      <td>1</td>\n",
       "      <td>0</td>\n",
       "      <td>0</td>\n",
       "      <td>1</td>\n",
       "      <td>...</td>\n",
       "      <td>0</td>\n",
       "      <td>0</td>\n",
       "      <td>0</td>\n",
       "      <td>0</td>\n",
       "      <td>1</td>\n",
       "      <td>0</td>\n",
       "      <td>0</td>\n",
       "      <td>0</td>\n",
       "      <td>0</td>\n",
       "      <td>0</td>\n",
       "    </tr>\n",
       "    <tr>\n",
       "      <th>2</th>\n",
       "      <td>0</td>\n",
       "      <td>1</td>\n",
       "      <td>0</td>\n",
       "      <td>0</td>\n",
       "      <td>0</td>\n",
       "      <td>0</td>\n",
       "      <td>0</td>\n",
       "      <td>0</td>\n",
       "      <td>0</td>\n",
       "      <td>1</td>\n",
       "      <td>...</td>\n",
       "      <td>0</td>\n",
       "      <td>0</td>\n",
       "      <td>0</td>\n",
       "      <td>0</td>\n",
       "      <td>0</td>\n",
       "      <td>0</td>\n",
       "      <td>1</td>\n",
       "      <td>0</td>\n",
       "      <td>0</td>\n",
       "      <td>0</td>\n",
       "    </tr>\n",
       "    <tr>\n",
       "      <th>3</th>\n",
       "      <td>1</td>\n",
       "      <td>0</td>\n",
       "      <td>0</td>\n",
       "      <td>0</td>\n",
       "      <td>0</td>\n",
       "      <td>0</td>\n",
       "      <td>1</td>\n",
       "      <td>0</td>\n",
       "      <td>0</td>\n",
       "      <td>0</td>\n",
       "      <td>...</td>\n",
       "      <td>1</td>\n",
       "      <td>0</td>\n",
       "      <td>0</td>\n",
       "      <td>0</td>\n",
       "      <td>0</td>\n",
       "      <td>0</td>\n",
       "      <td>0</td>\n",
       "      <td>0</td>\n",
       "      <td>1</td>\n",
       "      <td>0</td>\n",
       "    </tr>\n",
       "    <tr>\n",
       "      <th>4</th>\n",
       "      <td>0</td>\n",
       "      <td>0</td>\n",
       "      <td>0</td>\n",
       "      <td>0</td>\n",
       "      <td>0</td>\n",
       "      <td>0</td>\n",
       "      <td>1</td>\n",
       "      <td>0</td>\n",
       "      <td>0</td>\n",
       "      <td>1</td>\n",
       "      <td>...</td>\n",
       "      <td>0</td>\n",
       "      <td>0</td>\n",
       "      <td>0</td>\n",
       "      <td>0</td>\n",
       "      <td>1</td>\n",
       "      <td>0</td>\n",
       "      <td>0</td>\n",
       "      <td>0</td>\n",
       "      <td>0</td>\n",
       "      <td>0</td>\n",
       "    </tr>\n",
       "  </tbody>\n",
       "</table>\n",
       "<p>5 rows × 118 columns</p>\n",
       "</div>"
      ],
      "text/plain": [
       "   class  cap-shape_b  cap-shape_c  cap-shape_f  cap-shape_k  cap-shape_s  \\\n",
       "0      1            0            0            0            0            0   \n",
       "1      0            0            0            0            0            0   \n",
       "2      0            1            0            0            0            0   \n",
       "3      1            0            0            0            0            0   \n",
       "4      0            0            0            0            0            0   \n",
       "\n",
       "   cap-shape_x  cap-surface_f  cap-surface_g  cap-surface_s  ...  \\\n",
       "0            1              0              0              1  ...   \n",
       "1            1              0              0              1  ...   \n",
       "2            0              0              0              1  ...   \n",
       "3            1              0              0              0  ...   \n",
       "4            1              0              0              1  ...   \n",
       "\n",
       "   population_s  population_v  population_y  habitat_d  habitat_g  habitat_l  \\\n",
       "0             1             0             0          0          0          0   \n",
       "1             0             0             0          0          1          0   \n",
       "2             0             0             0          0          0          0   \n",
       "3             1             0             0          0          0          0   \n",
       "4             0             0             0          0          1          0   \n",
       "\n",
       "   habitat_m  habitat_p  habitat_u  habitat_w  \n",
       "0          0          0          1          0  \n",
       "1          0          0          0          0  \n",
       "2          1          0          0          0  \n",
       "3          0          0          1          0  \n",
       "4          0          0          0          0  \n",
       "\n",
       "[5 rows x 118 columns]"
      ]
     },
     "execution_count": 9,
     "metadata": {},
     "output_type": "execute_result"
    }
   ],
   "source": [
    "# encoding for all features\n",
    "encoded_data = pd.get_dummies(dataset , dtype=int)\n",
    "encoded_data.head()"
   ]
  },
  {
   "cell_type": "markdown",
   "id": "0070241c",
   "metadata": {},
   "source": [
    "### Train-Test Model"
   ]
  },
  {
   "cell_type": "code",
   "execution_count": 10,
   "id": "ce1bea38",
   "metadata": {},
   "outputs": [],
   "source": [
    "y = dataset['class'].values.reshape(-1,1)\n",
    "X = encoded_data.drop(['class'], axis = 1)\n",
    "\n",
    "X_train,X_test,y_train,y_test = train_test_split(X,y,test_size=0.2, random_state=42)"
   ]
  },
  {
   "cell_type": "markdown",
   "id": "8c685c0c",
   "metadata": {},
   "source": [
    "<h2 style = 'color: #FF0070'> Logistic Regression  </h2>"
   ]
  },
  {
   "cell_type": "code",
   "execution_count": 11,
   "id": "07e95ebe",
   "metadata": {},
   "outputs": [],
   "source": [
    "from sklearn.linear_model import LogisticRegression"
   ]
  },
  {
   "cell_type": "markdown",
   "id": "252feddb",
   "metadata": {},
   "source": [
    "- Logistic regression is a statistical and machine learning algorithm used for *binary classification tasks*, where the goal is to **predict the probability of an instance belonging to a particular class**. It is widely used when the dependent variable (the target variable) is categorical and has two possible outcomes, typically represented as 0 and 1.\n",
    "\n",
    "\n",
    "- Despite its name, logistic regression is a classification algorithm rather than a regression algorithm because it predicts the probability of belonging to a certain class rather than a numerical value.\n",
    "\n",
    "\n",
    "- The logistic regression model applies the **logistic function (also called the sigmoid function)** to the linear combination of the input features. The logistic function maps the linear combination to a value between 0 and 1, representing the predicted probability of the positive class.\n",
    "\n",
    "- The formula for logistic regression can be expressed as:\n",
    "\n",
    "                P(Y=1|X) = 1 / (1 + e^(-z))\n",
    "        Where:\n",
    "             P(Y=1|X) represents the probability of the positive class given the input features X.\n",
    "             e is the base of the natural logarithm (approximately 2.71828).\n",
    "             z is the linear combination of the input features and their respective coefficients.\n",
    "     \n",
    "- The logistic regression model is trained using a method called **maximum likelihood estimation**, which adjusts the coefficients of the input features to maximize the likelihood of the observed data. The optimization process aims to **find the best set of coefficients that minimize the difference between the predicted probabilities and the true class labels in the training data.**\n",
    "\n",
    "\n",
    "- To make predictions using logistic regression, a decision threshold is applied to the predicted probabilities. For example, if the threshold is set at 0.5, instances with predicted probabilities above 0.5 are classified as the positive class (1), while instances below 0.5 are classified as the negative class (0).\n",
    "\n",
    "\n",
    "- Logistic regression has numerous applications, including spam detection, disease diagnosis, credit scoring, sentiment analysis, and many other binary classification tasks. It is a widely used and interpretable algorithm for understanding the relationship between input features and the probability of a particular class."
   ]
  },
  {
   "cell_type": "code",
   "execution_count": 12,
   "id": "4cb79ff3",
   "metadata": {},
   "outputs": [],
   "source": [
    "logistic_reg = LogisticRegression()\n",
    "logistic_reg.fit(X_train,y_train.ravel())\n",
    "\n",
    "y_prob = logistic_reg.predict_proba(X_test)[:,1]\n",
    "y_pred = np.where(y_prob > 0.5,1,0)"
   ]
  },
  {
   "cell_type": "code",
   "execution_count": 13,
   "id": "3f1e5a14",
   "metadata": {},
   "outputs": [
    {
     "data": {
      "text/plain": [
       "array([[843,   0],\n",
       "       [  0, 782]], dtype=int64)"
      ]
     },
     "execution_count": 13,
     "metadata": {},
     "output_type": "execute_result"
    }
   ],
   "source": [
    "log_confusion_matrix = confusion_matrix(y_test,y_pred)\n",
    "log_confusion_matrix"
   ]
  },
  {
   "cell_type": "code",
   "execution_count": 14,
   "id": "35e81654",
   "metadata": {},
   "outputs": [
    {
     "data": {
      "text/plain": [
       "1.0"
      ]
     },
     "execution_count": 14,
     "metadata": {},
     "output_type": "execute_result"
    }
   ],
   "source": [
    "false_positive_rate,true_positive_rate,thresholds = roc_curve(y_test,y_prob)\n",
    "roc_auc = auc(false_positive_rate,true_positive_rate)\n",
    "roc_auc"
   ]
  },
  {
   "cell_type": "code",
   "execution_count": 15,
   "id": "92f561fc",
   "metadata": {},
   "outputs": [],
   "source": [
    "def plot_roc(roc_auc):\n",
    "    plt.figure(figsize=(6,6))\n",
    "    plt.title('Receiver Operating Characteristic')\n",
    "    plt.plot(false_positive_rate,true_positive_rate,color = 'red',label = 'AUC = %0.2f' % roc_auc )\n",
    "    plt.legend()\n",
    "    plt.plot([0,1],[0,1],linestyle ='--')\n",
    "    plt.axis('tight')\n",
    "    plt.ylabel('True Positive Rate')\n",
    "    plt.xlabel('False Positive Rate')    "
   ]
  },
  {
   "cell_type": "code",
   "execution_count": 16,
   "id": "d9f90e2b",
   "metadata": {},
   "outputs": [
    {
     "data": {
      "image/png": "[encoded data removed]",
      "text/plain": [
       "<Figure size 432x432 with 1 Axes>"
      ]
     },
     "metadata": {
      "needs_background": "light"
     },
     "output_type": "display_data"
    }
   ],
   "source": [
    "plot_roc(roc_auc)"
   ]
  },
  {
   "cell_type": "markdown",
   "id": "a1c76f34",
   "metadata": {},
   "source": [
    "<h2 style = 'color:darkviolet'> Linear Discriminant Analysis (LDA)  </h2>"
   ]
  },
  {
   "cell_type": "code",
   "execution_count": 17,
   "id": "733187f0",
   "metadata": {},
   "outputs": [],
   "source": [
    "from sklearn.discriminant_analysis import LinearDiscriminantAnalysis"
   ]
  },
  {
   "cell_type": "code",
   "execution_count": 18,
   "id": "9c7a5da8",
   "metadata": {},
   "outputs": [],
   "source": [
    "lda = LinearDiscriminantAnalysis()\n",
    "lda.fit(X_train,y_train.ravel())\n",
    "\n",
    "y_prob_lda = lda.predict_proba(X_test)[:,1]\n",
    "y_pred_lda = np.where(y_prob_lda > 0.5,1,0)"
   ]
  },
  {
   "cell_type": "code",
   "execution_count": 19,
   "id": "0d56fbc5",
   "metadata": {},
   "outputs": [
    {
     "data": {
      "text/plain": [
       "array([[843,   0],\n",
       "       [  0, 782]], dtype=int64)"
      ]
     },
     "execution_count": 19,
     "metadata": {},
     "output_type": "execute_result"
    }
   ],
   "source": [
    "lda_confusion_matrix = confusion_matrix(y_test,y_pred_lda)\n",
    "lda_confusion_matrix"
   ]
  },
  {
   "cell_type": "code",
   "execution_count": 20,
   "id": "aa898f2d",
   "metadata": {},
   "outputs": [
    {
     "data": {
      "text/plain": [
       "1.0"
      ]
     },
     "execution_count": 20,
     "metadata": {},
     "output_type": "execute_result"
    }
   ],
   "source": [
    "false_positive_rate,true_positive_rate,thresholds = roc_curve(y_test,y_prob_lda)\n",
    "roc_auc_lda = auc(false_positive_rate,true_positive_rate)\n",
    "roc_auc_lda"
   ]
  },
  {
   "cell_type": "code",
   "execution_count": 21,
   "id": "78e1af36",
   "metadata": {},
   "outputs": [
    {
     "data": {
      "image/png": "[encoded data removed]",
      "text/plain": [
       "<Figure size 432x432 with 1 Axes>"
      ]
     },
     "metadata": {
      "needs_background": "light"
     },
     "output_type": "display_data"
    }
   ],
   "source": [
    "plot_roc(roc_auc_lda)"
   ]
  },
  {
   "cell_type": "markdown",
   "id": "4bb4b63b",
   "metadata": {},
   "source": [
    "<h2 style = 'color:#0081FF'> Quadratic Discriminant Analysis (LDA)  </h2>"
   ]
  },
  {
   "cell_type": "code",
   "execution_count": 22,
   "id": "85b5d265",
   "metadata": {},
   "outputs": [],
   "source": [
    "from sklearn.discriminant_analysis import QuadraticDiscriminantAnalysis"
   ]
  },
  {
   "cell_type": "code",
   "execution_count": 23,
   "id": "10d45e26",
   "metadata": {},
   "outputs": [
    {
     "name": "stderr",
     "output_type": "stream",
     "text": [
      "C:\\Users\\deeks\\AppData\\Local\\Programs\\Python\\Python310\\lib\\site-packages\\sklearn\\discriminant_analysis.py:926: UserWarning: Variables are collinear\n",
      "  warnings.warn(\"Variables are collinear\")\n"
     ]
    }
   ],
   "source": [
    "qda = QuadraticDiscriminantAnalysis()\n",
    "qda.fit(X_train,y_train.ravel())\n",
    "\n",
    "y_prob_qda = lda.predict_proba(X_test)[:,1]\n",
    "y_pred_qda = np.where(y_prob_qda > 0.5,1,0)"
   ]
  },
  {
   "cell_type": "code",
   "execution_count": 24,
   "id": "8d7b5da8",
   "metadata": {},
   "outputs": [
    {
     "data": {
      "text/plain": [
       "array([[843,   0],\n",
       "       [  0, 782]], dtype=int64)"
      ]
     },
     "execution_count": 24,
     "metadata": {},
     "output_type": "execute_result"
    }
   ],
   "source": [
    "qda_confusion_matrix = confusion_matrix(y_test,y_pred_qda)\n",
    "qda_confusion_matrix"
   ]
  },
  {
   "cell_type": "code",
   "execution_count": 25,
   "id": "41b66260",
   "metadata": {},
   "outputs": [
    {
     "data": {
      "text/plain": [
       "1.0"
      ]
     },
     "execution_count": 25,
     "metadata": {},
     "output_type": "execute_result"
    }
   ],
   "source": [
    "false_positive_rate,true_positive_rate,thresholds = roc_curve(y_test,y_prob_qda)\n",
    "roc_auc_qda = auc(false_positive_rate,true_positive_rate)\n",
    "roc_auc_qda"
   ]
  },
  {
   "cell_type": "code",
   "execution_count": 26,
   "id": "a67175df",
   "metadata": {},
   "outputs": [
    {
     "data": {
      "image/png": "[encoded data removed]",
      "text/plain": [
       "<Figure size 432x432 with 1 Axes>"
      ]
     },
     "metadata": {
      "needs_background": "light"
     },
     "output_type": "display_data"
    }
   ],
   "source": [
    "plot_roc(roc_auc_qda)"
   ]
  },
  {
   "cell_type": "code",
   "execution_count": null,
   "id": "656be281",
   "metadata": {},
   "outputs": [],
   "source": []
  }
 ],
 "metadata": {
  "kernelspec": {
   "display_name": "Python 3 (ipykernel)",
   "language": "python",
   "name": "python3"
  },
  "language_info": {
   "codemirror_mode": {
    "name": "ipython",
    "version": 3
   },
   "file_extension": ".py",
   "mimetype": "text/x-python",
   "name": "python",
   "nbconvert_exporter": "python",
   "pygments_lexer": "ipython3",
   "version": "3.10.6"
  }
 },
 "nbformat": 4,
 "nbformat_minor": 5
}
