{
 "cells": [
  {
   "cell_type": "markdown",
   "id": "3d9f3433",
   "metadata": {},
   "source": [
    "## Support Vector Machine (SVM)"
   ]
  },
  {
   "cell_type": "code",
   "execution_count": 2,
   "id": "1a3891b2",
   "metadata": {},
   "outputs": [],
   "source": [
    "import numpy as np\n",
    "import pandas as pd\n",
    "import matplotlib.pyplot as plt\n",
    "from scipy.io import loadmat\n",
    "\n",
    "%matplotlib inline"
   ]
  },
  {
   "cell_type": "code",
   "execution_count": 3,
   "id": "c5c83a04",
   "metadata": {},
   "outputs": [],
   "source": [
    "path1 = 'data/ex6data1.mat'\n",
    "path2 = 'data/ex6data2.mat'\n",
    "path3 = 'data/ex6data3.mat'\n",
    "path_train = 'data/spamTrain.mat'\n",
    "path_test = 'data/spamtest.mat'"
   ]
  },
  {
   "cell_type": "code",
   "execution_count": null,
   "id": "b0391a29",
   "metadata": {},
   "outputs": [],
   "source": [
    "\n",
    "    "
   ]
  }
 ],
 "metadata": {
  "kernelspec": {
   "display_name": "Python 3 (ipykernel)",
   "language": "python",
   "name": "python3"
  },
  "language_info": {
   "codemirror_mode": {
    "name": "ipython",
    "version": 3
   },
   "file_extension": ".py",
   "mimetype": "text/x-python",
   "name": "python",
   "nbconvert_exporter": "python",
   "pygments_lexer": "ipython3",
   "version": "3.10.6"
  }
 },
 "nbformat": 4,
 "nbformat_minor": 5
}
